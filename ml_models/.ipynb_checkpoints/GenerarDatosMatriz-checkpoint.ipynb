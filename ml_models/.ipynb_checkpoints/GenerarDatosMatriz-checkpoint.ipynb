{
 "cells": [
  {
   "cell_type": "code",
   "execution_count": 61,
   "metadata": {},
   "outputs": [],
   "source": [
    "import json\n",
    "from bson import json_util"
   ]
  },
  {
   "cell_type": "code",
   "execution_count": 62,
   "metadata": {},
   "outputs": [],
   "source": [
    "def crearDimensionesGenerales():\n",
    "    dimensiones = [\n",
    "                   {'Dim':''},\n",
    "                   {'Dim':'Ambiente  Natural'},\n",
    "                   {'Dim':'Ambiente Construido'},\n",
    "                   {'Dim':'Desarrollo Socio-cultural y político administrativo'},\n",
    "                   {'Dim':'Desarrollo económico'}\n",
    "                  ]\n",
    "    json_result = json.dumps(dimensiones, default=json_util.default)\n",
    "    with open('../frontend/src/InfoMatriz/dimensionesG.json', \"w\") as outfile:\n",
    "        outfile.write(json_result)\n"
   ]
  },
  {
   "cell_type": "code",
   "execution_count": 63,
   "metadata": {},
   "outputs": [],
   "source": [
    "def crearDimensionesEspecificas():\n",
    "    dimensiones = [\n",
    "                   {'':''},\n",
    "                   {'Dimension':'Ambiente  Natural','Especificas':['Áreas de reserva ambiental','Áreas expuestas a amenazas y riesgos','Clasificación y delimitación del territorio']},\n",
    "                   {'Dimension':'Ambiente Construido','Especificas':['Infraestructura vial y de transporte y comunicaciones','Espacio Público','Infraestructura de servicios públicos domiciliarios ']},\n",
    "                   {'Dimension':'Desarrollo Socio-cultural y político administrativo','Especificas':['Patrimonio histórico, cultural y arquitectóncico','Vivienda de Interes Social','Servicios sociales e institucionales e infraestructuras socioculturales para la garantia y prestación de servicios sociales a cargo del Estado']},\n",
    "                   {'Dimension':'Desarrollo económico','Especificas':['Infraestructuras para desarrollo económico','Localización y áreas para la actividad económica en zonas  urbanas','Localización y áreas para la actividad económica en zonas rurales']},\n",
    "    ]\n",
    "    json_result = json.dumps(dimensiones, default=json_util.default)\n",
    "    with open('../frontend/src/InfoMatriz/dimensionesEspecificas.json', \"w\") as outfile:\n",
    "        outfile.write(json_result)\n"
   ]
  },
  {
   "cell_type": "code",
   "execution_count": 69,
   "metadata": {},
   "outputs": [],
   "source": [
    "def crearCompetencias():\n",
    "    dimensiones = [\n",
    "                   {'':''},\n",
    "                   {'Especifica':'Áreas de reserva ambiental','Competencia':['','Parques Naturales Nacionales','Reservas de Ley segunda','Distritos de Manejo Integrado','Zonas de Páramo y subpáramo','Áreas de protección de nivel regional','Áreas de protección del recurso hídrico']},\n",
    "                   {'Especifica':'Áreas expuestas a amenazas y riesgos','Competencia':['','Inundaciones','Avenidas torrenciales','Incendios','Vulcanismo','Movimientos en masa']},\n",
    "                   {'Especifica':'Clasificación y delimitación del territorio','Competencia':['']},\n",
    "\n",
    "                   {'Especifica':'Infraestructura vial y de transporte y comunicaciones','Competencia':['']},\n",
    "                   {'Especifica':'','Competencia':['','Vias','Puertos','Aeropuertos','Terminales','Movilidad fluvial']},\n",
    "                   {'Especifica':'Espacio Público','Competencia':['']},\n",
    "                   {'Especifica':'Infraestructura de servicios públicos domiciliarios ','Competencia':['','Agua para consumo humano ','Saneamiento básico','Manejo y disposición de residuos sólidos','Otros servicios públicos (Energía, Alumbrado, telefonía fija y móvil, gas, internet)']},\n",
    "                   \n",
    "                   {'Especifica':'Patrimonio histórico, cultural y arquitectóncico','Competencia':['']},\n",
    "                   {'Especifica':'Vivienda de Interes Social','Competencia':['']},\n",
    "                   {'Especifica':'Servicios sociales e institucionales e infraestructuras socioculturales para la garantia y prestación de servicios sociales a cargo del Estado','Competencia':['','Servicio de educación','Servicio de recreación y deporte ','Servicios culturales','Participación social y comunitaria','Servicio de salud','Servicios de bienestar y protección social (jardines infantiles, casas de juventud, ancianatos, centros para personas en condiciones de vulnerabilidad, situación de desplazamiento, victimas de la violencia, etc)','Servicios de Seguridad y Justicia (Casas de justicia, comisarías, centros de reclusión, estaciones de policia, bases militares, etc)','Servicios Institucionales (Alcaldía, despachos administrativos)','Otros servicios (cementerios, otros)']},\n",
    "                   {'Especifica':'Infraestructuras para desarrollo económico','Competencia':['','Centros de faenado, plazas de ferias y eventos, otros','Centros de acopio, centros comerciales, parques industriales, etc.','Sistemas de riego']},\n",
    "                   {'Especifica':'Localización y áreas para la actividad económica en zonas  urbanas','Competencia':['','Zonas industriales','Zonas comerciales','Zonas para el desarrollo del turismo','Zonas de servicios ']},\n",
    "                   {'Especifica':'Localización y áreas para la actividad económica en zonas rurales','Competencia':['','Zonas de producción agropecuaria','Zonas industriales','Zonas comerciales','Zonas para el desarrollo del turismo','Zonas de servicios','Zonas de actividad minera']},\n",
    "                   \n",
    "    ]\n",
    "    json_result = json.dumps(dimensiones, default=json_util.default)\n",
    "    with open('../frontend/src/InfoMatriz/Competencias.json', \"w\") as outfile:\n",
    "        outfile.write(json_result)\n"
   ]
  },
  {
   "cell_type": "code",
   "execution_count": 70,
   "metadata": {},
   "outputs": [],
   "source": [
    "def crearListaODS():\n",
    "    ods=[\n",
    "        '1 Fin de la pobreza',\n",
    "        '2 Hambre cero',\n",
    "        '3 Salud y bienestar',\n",
    "        '4 Educación de calidad',\n",
    "        '5 Igualdad de género',\n",
    "        '6 Agua limpia y saneamiento',\n",
    "        '7 Energia asequible y no contaminante',\n",
    "        '8 Trabajo decente y crecimiento economico',\n",
    "        '9 Industria, innovacion e infraestructura',\n",
    "        '10 Reducción de las desigualdades',\n",
    "        '11 Ciudades y comunidades sostenibles',\n",
    "        '12 Produccion y consumo responsable',\n",
    "        '13 Accion por el clima',\n",
    "        '14 Vida Submarina',\n",
    "        '15 Vida de ecosistemas terrestres',\n",
    "        '16 Paz, justicia e instituciones solidas',\n",
    "        '17 Alianzas para lograr los objetivos',\n",
    "    ];\n",
    "    lista = []\n",
    "    for o in ods:\n",
    "        lista.append({\"ods\":o})\n",
    "    json_result = json.dumps(ods, default=json_util.default)\n",
    "    with open('../frontend/src/InfoMatriz/ods.json', \"w\") as outfile:\n",
    "        outfile.write(json_result)"
   ]
  },
  {
   "cell_type": "code",
   "execution_count": 71,
   "metadata": {},
   "outputs": [],
   "source": [
    "def crearListaMetas():\n",
    "    metas=[\n",
    "        { \"ods\":'1 Fin de la pobreza', \"metas\":['1.1','1.2','1.3','1.4','1.5','1.a','1.b']},\n",
    "        { \"ods\":'2 Hambre cero', \"metas\":['2.1','2.2','2.3','2.4','2.5','2.a','2.b','2.c']},\n",
    "        { \"ods\":'3 Salud y bienestar', \"metas\":['3.1','3.2','3.3','3.4','3.5','3.6','3.7','3.8','3.9','3.a','3.b','3.c','3.d']},\n",
    "        { \"ods\":'4 Educación de calidad', \"metas\":['4.1','4.2','4.3','4.4','4.5','4.6','4.7','2.a','2.b','2.c']},\n",
    "        { \"ods\":'5 Igualdad de género', \"metas\":['5.1','5.2','5.3','5.4','5.5','5.6','5.a','5.b','5.c']},\n",
    "        { \"ods\":'6 Agua limpia y saneamiento', \"metas\":['6.1','6.2','6.3','6.4','6.5','6.6','6.a','6.b']},\n",
    "        { \"ods\":'7 Energia asequible y no contaminante', \"metas\":['7.1','7.2','7.3','7.a','7.b']},\n",
    "        { \"ods\":'8 Trabajo decente y crecimiento economico', \"metas\":['8.1','8.2','8.3','8.4','8.5','8.6','8.7','8.8','8.9','8.10','8.a','8.b']},\n",
    "        { \"ods\":'9 Industria, innovacion e infraestructura', \"metas\":['9.1','9.2','9.3','9.4','9.5','9.a','9.b','9.c']},\n",
    "        { \"ods\":'10 Reducción de las desigualdades', \"metas\":['10.1','10.2','10.3','10.4','10.5','10.6','10.7','10.a','10.b','10.c']},\n",
    "        { \"ods\":'11 Ciudades y comunidades sostenibles', \"metas\":['11.1','11.2','11.3','11.4','11.5','11.6','11.7','11.a','11.b','11.c']},\n",
    "        { \"ods\":'12 Produccion y consumo responsable', \"metas\":['12.1','12.2','12.3','12.4','12.5','12.6','12.7','12.8','12.a','12.b','12.c']},\n",
    "        { \"ods\":'13 Accion por el clima', \"metas\":['13.1','13.2','13.3','13.a','13.b']},\n",
    "        { \"ods\":'14 Vida Submarina', \"metas\":['14.1','14.2','14.3','14.4','14.5','14.6','14.7','14.a','14.b','14.c']},\n",
    "        { \"ods\":'15 Vida de ecosistemas terrestres', \"metas\":['15.1','15.2','15.3','15.4','15.5','15.6','15.7','15.8','15.9','15.a','15.b','15.c']},\n",
    "        { \"ods\":'16 Paz, justicia e instituciones solidas', \"metas\":['16.1','16.2','16.3','16.4','16.5','16.6','16.7','16.8','16.9','16.10','16.a','16.b']},\n",
    "        { \"ods\":'17 Alianzas para lograr los objetivos', \"metas\":['17.1','17.2','17.3','17.4','17.5','17.6','17.7','17.8','17.9','17.10','17.11','17.12','17.13','17.14','17.15','17.16','17.17','17.18','17.19']},\n",
    "    ];\n",
    "    json_result = json.dumps(metas, default=json_util.default)\n",
    "    with open('../frontend/src/InfoMatriz/metas.json', \"w\") as outfile:\n",
    "        outfile.write(json_result)"
   ]
  },
  {
   "cell_type": "code",
   "execution_count": 72,
   "metadata": {},
   "outputs": [],
   "source": [
    "def crearDimensionesPorElemento():\n",
    "    ods=[\n",
    "        '',\n",
    "        \"Poblacional\",\n",
    "        \"Ambiente Natural\",\n",
    "        \"Ambiente Construido\",\n",
    "        \"Social\",\n",
    "        \"Politico Institucional\",\n",
    "        \"Económica\",\n",
    "    ];\n",
    "    json_result = json.dumps(ods, default=json_util.default)\n",
    "    with open('../frontend/src/InfoMatriz/dimensionesLista.json', \"w\") as outfile:\n",
    "        outfile.write(json_result)"
   ]
  },
  {
   "cell_type": "code",
   "execution_count": 73,
   "metadata": {},
   "outputs": [],
   "source": [
    "crearDimensionesGenerales()\n",
    "crearListaODS()\n",
    "crearDimensionesPorElemento()\n",
    "crearListaMetas()\n",
    "crearDimensionesEspecificas()\n",
    "crearCompetencias()"
   ]
  },
  {
   "cell_type": "code",
   "execution_count": null,
   "metadata": {},
   "outputs": [],
   "source": []
  }
 ],
 "metadata": {
  "kernelspec": {
   "display_name": "Python 3",
   "language": "python",
   "name": "python3"
  },
  "language_info": {
   "codemirror_mode": {
    "name": "ipython",
    "version": 3
   },
   "file_extension": ".py",
   "mimetype": "text/x-python",
   "name": "python",
   "nbconvert_exporter": "python",
   "pygments_lexer": "ipython3",
   "version": "3.8.5"
  }
 },
 "nbformat": 4,
 "nbformat_minor": 4
}
